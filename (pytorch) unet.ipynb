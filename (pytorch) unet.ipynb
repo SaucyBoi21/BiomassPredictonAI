{
 "cells": [
  {
   "cell_type": "code",
   "execution_count": 13,
   "metadata": {},
   "outputs": [],
   "source": [
    "import numpy as np\n",
    "import pandas as pd\n",
    "import torch\n",
    "import torch.nn as nn\n",
    "import os\n",
    "import glob\n",
    "from PIL import Image"
   ]
  },
  {
   "cell_type": "code",
   "execution_count": 14,
   "metadata": {},
   "outputs": [
    {
     "name": "stdout",
     "output_type": "stream",
     "text": [
      "Using cpu device\n"
     ]
    }
   ],
   "source": [
    "device = \"cuda\" if torch.cuda.is_available() else \"cpu\"\n",
    "print(f\"Using {device} device\")"
   ]
  },
  {
   "cell_type": "code",
   "execution_count": 15,
   "metadata": {},
   "outputs": [],
   "source": [
    "NUM_CHANNELS = 3\n",
    "LEARNING_RATE = 1e-3\n",
    "EPOCHS = 25\n",
    "BATCH_SIZE = 8\n",
    "IMAGE_HEIGHT = 1080\n",
    "IMAGE_WIDTH = 1920\n",
    "data = []"
   ]
  },
  {
   "cell_type": "code",
   "execution_count": 16,
   "metadata": {},
   "outputs": [],
   "source": [
    "# filepaths\n",
    "tray1_rgb = \"image_data/masks/T01_rgb\"\n",
    "tray1_mask = \"image_data/masks/T01_mask\""
   ]
  },
  {
   "cell_type": "code",
   "execution_count": 17,
   "metadata": {},
   "outputs": [
    {
     "data": {
      "text/plain": [
       "'def dataloader(filepath1, filepath2):\\n    imageset1 = []\\n    imageset2 = [] \\n    with open(filepath1, \"r\") as file:\\n        images = file.readlines()\\n        for img in images:\\n            image_filename = img.strip()\\n            image_path = os.path.join(filepath1, image_filename)\\n            image = Image.open(image_path)\\n            imageset1.append(image)\\n        file.close\\n    for img in imageset1:\\n        with open(filepath2, \"r\") as file:\\n            images = file.readlines()\\n            for img in images:\\n                image_filename = img.strip()\\n                image_path = os.path.join(filepath2, image_filename)\\n                image = Image.open(image_path)\\n                imageset1.append(image)\\n        file.close\\n\\n    return imageset1, imageset2'"
      ]
     },
     "execution_count": 17,
     "metadata": {},
     "output_type": "execute_result"
    }
   ],
   "source": [
    "'''def dataloader(filepath1, filepath2):\n",
    "    imageset1 = []\n",
    "    imageset2 = [] \n",
    "    with open(filepath1, \"r\") as file:\n",
    "        images = file.readlines()\n",
    "        for img in images:\n",
    "            image_filename = img.strip()\n",
    "            image_path = os.path.join(filepath1, image_filename)\n",
    "            image = Image.open(image_path)\n",
    "            imageset1.append(image)\n",
    "        file.close\n",
    "    for img in imageset1:\n",
    "        with open(filepath2, \"r\") as file:\n",
    "            images = file.readlines()\n",
    "            for img in images:\n",
    "                image_filename = img.strip()\n",
    "                image_path = os.path.join(filepath2, image_filename)\n",
    "                image = Image.open(image_path)\n",
    "                imageset1.append(image)\n",
    "        file.close\n",
    "\n",
    "    return imageset1, imageset2'''\n"
   ]
  },
  {
   "cell_type": "code",
   "execution_count": 18,
   "metadata": {},
   "outputs": [],
   "source": [
    "def dataloader(X_filepath, y_filepath):\n",
    "    X_dir = X_filepath\n",
    "    y_dir = y_filepath\n",
    "    X_files = glob.glob(os.path.join(X_dir, '*.jpg'))\n",
    "    y_files = glob.glob(os.path.join(y_dir, '*.jpg'))\n",
    "    X = []\n",
    "    y = []\n",
    "\n",
    "    for image in X_files:\n",
    "        X.append(Image.open(image))\n",
    "        temp_X = image\n",
    "        for y_image in y_files:\n",
    "            if (temp_X == y_image):\n",
    "                y.append(y_image)\n",
    "    \n",
    "\n",
    "    return X,y"
   ]
  },
  {
   "cell_type": "code",
   "execution_count": 19,
   "metadata": {},
   "outputs": [
    {
     "name": "stdout",
     "output_type": "stream",
     "text": [
      "[<PIL.JpegImagePlugin.JpegImageFile image mode=RGB size=1920x1080 at 0x7FEC244C18B0>, <PIL.JpegImagePlugin.JpegImageFile image mode=RGB size=1920x1080 at 0x7FEC2C5FB7C0>, <PIL.JpegImagePlugin.JpegImageFile image mode=RGB size=1920x1080 at 0x7FEC2C5FB190>, <PIL.JpegImagePlugin.JpegImageFile image mode=RGB size=1920x1080 at 0x7FEC2C5FB7F0>, <PIL.JpegImagePlugin.JpegImageFile image mode=RGB size=1920x1080 at 0x7FEC2C5F0B20>, <PIL.JpegImagePlugin.JpegImageFile image mode=RGB size=1920x1080 at 0x7FEC2C5F09D0>, <PIL.JpegImagePlugin.JpegImageFile image mode=RGB size=1920x1080 at 0x7FEC2C5F0520>, <PIL.JpegImagePlugin.JpegImageFile image mode=RGB size=1920x1080 at 0x7FEC2C5F0910>, <PIL.JpegImagePlugin.JpegImageFile image mode=RGB size=1920x1080 at 0x7FEC2C5F0B80>, <PIL.JpegImagePlugin.JpegImageFile image mode=RGB size=1920x1080 at 0x7FEC2C5F05B0>, <PIL.JpegImagePlugin.JpegImageFile image mode=RGB size=1920x1080 at 0x7FEC2C5F0FA0>, <PIL.JpegImagePlugin.JpegImageFile image mode=RGB size=1920x1080 at 0x7FEC2C5F0C10>, <PIL.JpegImagePlugin.JpegImageFile image mode=RGB size=1920x1080 at 0x7FEC2C5F0880>, <PIL.JpegImagePlugin.JpegImageFile image mode=RGB size=1920x1080 at 0x7FEC2C623070>, <PIL.JpegImagePlugin.JpegImageFile image mode=RGB size=1920x1080 at 0x7FEC2C623130>, <PIL.JpegImagePlugin.JpegImageFile image mode=RGB size=1920x1080 at 0x7FEC2C623160>, <PIL.JpegImagePlugin.JpegImageFile image mode=RGB size=1920x1080 at 0x7FEC2C6232B0>, <PIL.JpegImagePlugin.JpegImageFile image mode=RGB size=1920x1080 at 0x7FEC2C623220>, <PIL.JpegImagePlugin.JpegImageFile image mode=RGB size=1920x1080 at 0x7FEC2C6230D0>, <PIL.JpegImagePlugin.JpegImageFile image mode=RGB size=1920x1080 at 0x7FEC2C6233A0>, <PIL.JpegImagePlugin.JpegImageFile image mode=RGB size=1920x1080 at 0x7FEC2C623520>, <PIL.JpegImagePlugin.JpegImageFile image mode=RGB size=1920x1080 at 0x7FEC2C623640>, <PIL.JpegImagePlugin.JpegImageFile image mode=RGB size=1920x1080 at 0x7FEC2C623820>, <PIL.JpegImagePlugin.JpegImageFile image mode=RGB size=1920x1080 at 0x7FEC2C6230A0>, <PIL.JpegImagePlugin.JpegImageFile image mode=RGB size=1920x1080 at 0x7FEC2C623790>, <PIL.JpegImagePlugin.JpegImageFile image mode=RGB size=1920x1080 at 0x7FEC2C623430>, <PIL.JpegImagePlugin.JpegImageFile image mode=RGB size=1920x1080 at 0x7FEC2C5FB790>, <PIL.JpegImagePlugin.JpegImageFile image mode=RGB size=1920x1080 at 0x7FEC2C5FB1F0>, <PIL.JpegImagePlugin.JpegImageFile image mode=RGB size=1920x1080 at 0x7FEC2C5FB4C0>, <PIL.JpegImagePlugin.JpegImageFile image mode=RGB size=1920x1080 at 0x7FEC2C5FB5E0>, <PIL.JpegImagePlugin.JpegImageFile image mode=RGB size=1920x1080 at 0x7FEC2C6236D0>, <PIL.JpegImagePlugin.JpegImageFile image mode=RGB size=1920x1080 at 0x7FEC2C623460>, <PIL.JpegImagePlugin.JpegImageFile image mode=RGB size=1920x1080 at 0x7FEC2C623250>, <PIL.JpegImagePlugin.JpegImageFile image mode=RGB size=1920x1080 at 0x7FEC2C623880>, <PIL.JpegImagePlugin.JpegImageFile image mode=RGB size=1920x1080 at 0x7FEC2C623760>, <PIL.JpegImagePlugin.JpegImageFile image mode=RGB size=1920x1080 at 0x7FEC2C6234C0>, <PIL.JpegImagePlugin.JpegImageFile image mode=RGB size=1920x1080 at 0x7FEC2C6232E0>, <PIL.JpegImagePlugin.JpegImageFile image mode=RGB size=1920x1080 at 0x7FEC2C623970>, <PIL.JpegImagePlugin.JpegImageFile image mode=RGB size=1920x1080 at 0x7FEC2C623B20>, <PIL.JpegImagePlugin.JpegImageFile image mode=RGB size=1920x1080 at 0x7FEC2C623400>]\n"
     ]
    }
   ],
   "source": [
    "X, y = dataloader(tray1_rgb, tray1_mask)\n",
    "print(X)"
   ]
  },
  {
   "cell_type": "code",
   "execution_count": 20,
   "metadata": {},
   "outputs": [],
   "source": [
    "class conv_block(nn.Module):\n",
    "    def __init__(self, input_channels, output_channels):\n",
    "        super().__init__()\n",
    "        self.conv1 = nn.Conv2d(input_channels, output_channels, kernel_size = 3, stride =1, padding=1)\n",
    "        self.bn1 = nn.BatchNorm2d(output_channels)\n",
    "        self.conv2 = nn.Conv2d(output_channels, output_channels, kernel_size = 3, stride = 1, padding=1)\n",
    "        self.bn2 = nn.BatchNorm2d(output_channels)\n",
    "        self.relu = nn.ReLU()\n",
    "\n",
    "        def forward(self, input):\n",
    "            x = self.conv1(input)\n",
    "            x = self.bn1(x)\n",
    "            x = self.conv2(x)\n",
    "            x = self.bn2(x)\n",
    "            x = self.relu(x)\n",
    "            return x"
   ]
  },
  {
   "cell_type": "code",
   "execution_count": 21,
   "metadata": {},
   "outputs": [],
   "source": [
    "class encoder_block(nn.Module):\n",
    "    def __init__(self, input_channels, output_channels):\n",
    "        super().__init__()\n",
    "        self.conv = conv_block(input_channels, output_channels)\n",
    "        self.pool = nn.MaxPool2d((2,2))\n",
    "\n",
    "    def forward(self, inputs):\n",
    "        x = self.conv(inputs)\n",
    "        p = self.pool(x)\n",
    "        return x, p"
   ]
  },
  {
   "cell_type": "code",
   "execution_count": 22,
   "metadata": {},
   "outputs": [],
   "source": [
    "class decoder_block(nn.Module):\n",
    "    def __init__(self, input_channels, output_channels):\n",
    "        super().__init__()\n",
    "        self.up = nn.ConvTranspose2d(input_channels, output_channels, kernel_size=3, stride=1, padding=1)\n",
    "        self.conv = conv_block(output_channels*2, output_channels)\n",
    "        \n",
    "    def forward(self, inputs, skip):\n",
    "        x = self.up(inputs)\n",
    "        x = torch.cat([x, skip], axis=1)\n",
    "        x = self.conv(x)\n",
    "        return x"
   ]
  },
  {
   "cell_type": "code",
   "execution_count": 23,
   "metadata": {},
   "outputs": [],
   "source": [
    "class UNET(nn.Module):\n",
    "    def __init__(self):\n",
    "        super().__init__()\n",
    "\n",
    "        self.e1 = encoder_block(3, 64)\n",
    "        self.e2 = encoder_block(64, 128)\n",
    "        self.e3 = encoder_block(128, 256)\n",
    "        self.e4 = encoder_block(256, 512)\n",
    "\n",
    "        self.b = conv_block(512,1024)\n",
    "\n",
    "        self.d1 = decoder_block(1024, 512)\n",
    "        self.d2 = decoder_block(512, 256)\n",
    "        self.d3 = decoder_block(256, 128)\n",
    "        self.d4 = decoder_block(128, 64)\n",
    "\n",
    "        self.outputs = nn.Conv2d(64, 1, kernel_size=1, padding=0)\n",
    "\n",
    "    def forward(self, inputs):\n",
    "\n",
    "        s1, p1 = self.e1(inputs)\n",
    "        s2, p2 = self.e2(p1)\n",
    "        s3, p3 = self.e3(p2)\n",
    "        s4, p4 = self.e4(p3)\n",
    "\n",
    "        b = self.b(p4)\n",
    "\n",
    "        d1 = self.d1(b, s4)\n",
    "        d2 = self.d2(d1, s3)\n",
    "        d3 = self.d3(d2, s2)\n",
    "        d4 = self.d4(d3, s1)\n",
    "\n",
    "        outputs = self.outputs(d4)\n",
    "\n",
    "        return outputs"
   ]
  },
  {
   "cell_type": "code",
   "execution_count": null,
   "metadata": {},
   "outputs": [],
   "source": [
    "def train_loop():\n",
    "    "
   ]
  },
  {
   "cell_type": "code",
   "execution_count": 24,
   "metadata": {},
   "outputs": [
    {
     "name": "stdout",
     "output_type": "stream",
     "text": [
      "UNET(\n",
      "  (e1): encoder_block(\n",
      "    (conv): conv_block(\n",
      "      (conv1): Conv2d(3, 64, kernel_size=(3, 3), stride=(1, 1), padding=(1, 1))\n",
      "      (bn1): BatchNorm2d(64, eps=1e-05, momentum=0.1, affine=True, track_running_stats=True)\n",
      "      (conv2): Conv2d(64, 64, kernel_size=(3, 3), stride=(1, 1), padding=(1, 1))\n",
      "      (bn2): BatchNorm2d(64, eps=1e-05, momentum=0.1, affine=True, track_running_stats=True)\n",
      "      (relu): ReLU()\n",
      "    )\n",
      "    (pool): MaxPool2d(kernel_size=(2, 2), stride=(2, 2), padding=0, dilation=1, ceil_mode=False)\n",
      "  )\n",
      "  (e2): encoder_block(\n",
      "    (conv): conv_block(\n",
      "      (conv1): Conv2d(64, 128, kernel_size=(3, 3), stride=(1, 1), padding=(1, 1))\n",
      "      (bn1): BatchNorm2d(128, eps=1e-05, momentum=0.1, affine=True, track_running_stats=True)\n",
      "      (conv2): Conv2d(128, 128, kernel_size=(3, 3), stride=(1, 1), padding=(1, 1))\n",
      "      (bn2): BatchNorm2d(128, eps=1e-05, momentum=0.1, affine=True, track_running_stats=True)\n",
      "      (relu): ReLU()\n",
      "    )\n",
      "    (pool): MaxPool2d(kernel_size=(2, 2), stride=(2, 2), padding=0, dilation=1, ceil_mode=False)\n",
      "  )\n",
      "  (e3): encoder_block(\n",
      "    (conv): conv_block(\n",
      "      (conv1): Conv2d(128, 256, kernel_size=(3, 3), stride=(1, 1), padding=(1, 1))\n",
      "      (bn1): BatchNorm2d(256, eps=1e-05, momentum=0.1, affine=True, track_running_stats=True)\n",
      "      (conv2): Conv2d(256, 256, kernel_size=(3, 3), stride=(1, 1), padding=(1, 1))\n",
      "      (bn2): BatchNorm2d(256, eps=1e-05, momentum=0.1, affine=True, track_running_stats=True)\n",
      "      (relu): ReLU()\n",
      "    )\n",
      "    (pool): MaxPool2d(kernel_size=(2, 2), stride=(2, 2), padding=0, dilation=1, ceil_mode=False)\n",
      "  )\n",
      "  (e4): encoder_block(\n",
      "    (conv): conv_block(\n",
      "      (conv1): Conv2d(256, 512, kernel_size=(3, 3), stride=(1, 1), padding=(1, 1))\n",
      "      (bn1): BatchNorm2d(512, eps=1e-05, momentum=0.1, affine=True, track_running_stats=True)\n",
      "      (conv2): Conv2d(512, 512, kernel_size=(3, 3), stride=(1, 1), padding=(1, 1))\n",
      "      (bn2): BatchNorm2d(512, eps=1e-05, momentum=0.1, affine=True, track_running_stats=True)\n",
      "      (relu): ReLU()\n",
      "    )\n",
      "    (pool): MaxPool2d(kernel_size=(2, 2), stride=(2, 2), padding=0, dilation=1, ceil_mode=False)\n",
      "  )\n",
      "  (b): conv_block(\n",
      "    (conv1): Conv2d(512, 1024, kernel_size=(3, 3), stride=(1, 1), padding=(1, 1))\n",
      "    (bn1): BatchNorm2d(1024, eps=1e-05, momentum=0.1, affine=True, track_running_stats=True)\n",
      "    (conv2): Conv2d(1024, 1024, kernel_size=(3, 3), stride=(1, 1), padding=(1, 1))\n",
      "    (bn2): BatchNorm2d(1024, eps=1e-05, momentum=0.1, affine=True, track_running_stats=True)\n",
      "    (relu): ReLU()\n",
      "  )\n",
      "  (d1): decoder_block(\n",
      "    (up): ConvTranspose2d(1024, 512, kernel_size=(3, 3), stride=(1, 1), padding=(1, 1))\n",
      "    (conv): conv_block(\n",
      "      (conv1): Conv2d(1024, 512, kernel_size=(3, 3), stride=(1, 1), padding=(1, 1))\n",
      "      (bn1): BatchNorm2d(512, eps=1e-05, momentum=0.1, affine=True, track_running_stats=True)\n",
      "      (conv2): Conv2d(512, 512, kernel_size=(3, 3), stride=(1, 1), padding=(1, 1))\n",
      "      (bn2): BatchNorm2d(512, eps=1e-05, momentum=0.1, affine=True, track_running_stats=True)\n",
      "      (relu): ReLU()\n",
      "    )\n",
      "  )\n",
      "  (d2): decoder_block(\n",
      "    (up): ConvTranspose2d(512, 256, kernel_size=(3, 3), stride=(1, 1), padding=(1, 1))\n",
      "    (conv): conv_block(\n",
      "      (conv1): Conv2d(512, 256, kernel_size=(3, 3), stride=(1, 1), padding=(1, 1))\n",
      "      (bn1): BatchNorm2d(256, eps=1e-05, momentum=0.1, affine=True, track_running_stats=True)\n",
      "      (conv2): Conv2d(256, 256, kernel_size=(3, 3), stride=(1, 1), padding=(1, 1))\n",
      "      (bn2): BatchNorm2d(256, eps=1e-05, momentum=0.1, affine=True, track_running_stats=True)\n",
      "      (relu): ReLU()\n",
      "    )\n",
      "  )\n",
      "  (d3): decoder_block(\n",
      "    (up): ConvTranspose2d(256, 128, kernel_size=(3, 3), stride=(1, 1), padding=(1, 1))\n",
      "    (conv): conv_block(\n",
      "      (conv1): Conv2d(256, 128, kernel_size=(3, 3), stride=(1, 1), padding=(1, 1))\n",
      "      (bn1): BatchNorm2d(128, eps=1e-05, momentum=0.1, affine=True, track_running_stats=True)\n",
      "      (conv2): Conv2d(128, 128, kernel_size=(3, 3), stride=(1, 1), padding=(1, 1))\n",
      "      (bn2): BatchNorm2d(128, eps=1e-05, momentum=0.1, affine=True, track_running_stats=True)\n",
      "      (relu): ReLU()\n",
      "    )\n",
      "  )\n",
      "  (d4): decoder_block(\n",
      "    (up): ConvTranspose2d(128, 64, kernel_size=(3, 3), stride=(1, 1), padding=(1, 1))\n",
      "    (conv): conv_block(\n",
      "      (conv1): Conv2d(128, 64, kernel_size=(3, 3), stride=(1, 1), padding=(1, 1))\n",
      "      (bn1): BatchNorm2d(64, eps=1e-05, momentum=0.1, affine=True, track_running_stats=True)\n",
      "      (conv2): Conv2d(64, 64, kernel_size=(3, 3), stride=(1, 1), padding=(1, 1))\n",
      "      (bn2): BatchNorm2d(64, eps=1e-05, momentum=0.1, affine=True, track_running_stats=True)\n",
      "      (relu): ReLU()\n",
      "    )\n",
      "  )\n",
      "  (outputs): Conv2d(64, 1, kernel_size=(1, 1), stride=(1, 1))\n",
      ")\n"
     ]
    }
   ],
   "source": [
    "model = UNET()\n",
    "print(model)"
   ]
  }
 ],
 "metadata": {
  "kernelspec": {
   "display_name": "venv",
   "language": "python",
   "name": "python3"
  },
  "language_info": {
   "codemirror_mode": {
    "name": "ipython",
    "version": 3
   },
   "file_extension": ".py",
   "mimetype": "text/x-python",
   "name": "python",
   "nbconvert_exporter": "python",
   "pygments_lexer": "ipython3",
   "version": "3.8.5"
  },
  "orig_nbformat": 4,
  "vscode": {
   "interpreter": {
    "hash": "05dbbb7414389032baa654308b5b2368ed4754b5c0531661864b7939633c6eac"
   }
  }
 },
 "nbformat": 4,
 "nbformat_minor": 2
}
