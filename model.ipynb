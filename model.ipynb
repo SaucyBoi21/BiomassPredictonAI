{
 "cells": [
  {
   "cell_type": "code",
   "execution_count": 5,
   "metadata": {},
   "outputs": [],
   "source": [
    "import tensorflow as tf\n",
    "from tensorflow import keras\n",
    "from plantcv import plantcv as pcv\n",
    "import pandas as pd"
   ]
  },
  {
   "cell_type": "code",
   "execution_count": 6,
   "metadata": {},
   "outputs": [
    {
     "name": "stdout",
     "output_type": "stream",
     "text": [
      "2.11.0\n",
      "1.5.3\n"
     ]
    }
   ],
   "source": [
    "print(tf.__version__)\n",
    "print(pd.__version__)"
   ]
  },
  {
   "cell_type": "code",
   "execution_count": 21,
   "metadata": {},
   "outputs": [],
   "source": [
    "# How many parameters are we inputing into our model\n",
    "num_parameters = 13 "
   ]
  },
  {
   "cell_type": "code",
   "execution_count": 8,
   "metadata": {},
   "outputs": [
    {
     "name": "stdout",
     "output_type": "stream",
     "text": [
      "Num GPUs Available:  0\n"
     ]
    }
   ],
   "source": [
    "# See if there are any GPUs that can be used to run our code\n",
    "print(\"Num GPUs Available: \", len(tf.config.list_physical_devices('GPU')))"
   ]
  },
  {
   "cell_type": "code",
   "execution_count": 26,
   "metadata": {},
   "outputs": [
    {
     "data": {
      "text/html": [
       "<div>\n",
       "<style scoped>\n",
       "    .dataframe tbody tr th:only-of-type {\n",
       "        vertical-align: middle;\n",
       "    }\n",
       "\n",
       "    .dataframe tbody tr th {\n",
       "        vertical-align: top;\n",
       "    }\n",
       "\n",
       "    .dataframe thead th {\n",
       "        text-align: right;\n",
       "    }\n",
       "</style>\n",
       "<table border=\"1\" class=\"dataframe\">\n",
       "  <thead>\n",
       "    <tr style=\"text-align: right;\">\n",
       "      <th></th>\n",
       "      <th>length_mm</th>\n",
       "      <th>width_mm</th>\n",
       "      <th>height_mm</th>\n",
       "      <th>plant_area</th>\n",
       "      <th>plant_convex_hull_area</th>\n",
       "      <th>plant_solidity</th>\n",
       "      <th>plant_perimeter</th>\n",
       "      <th>plant_width</th>\n",
       "      <th>plant_height</th>\n",
       "      <th>plant_longest_path</th>\n",
       "    </tr>\n",
       "  </thead>\n",
       "  <tbody>\n",
       "    <tr>\n",
       "      <th>0</th>\n",
       "      <td>43.07</td>\n",
       "      <td>51.99</td>\n",
       "      <td>5.8</td>\n",
       "      <td>1211</td>\n",
       "      <td>1456.0</td>\n",
       "      <td>0.831731</td>\n",
       "      <td>189.923880</td>\n",
       "      <td>49</td>\n",
       "      <td>42</td>\n",
       "      <td>346</td>\n",
       "    </tr>\n",
       "    <tr>\n",
       "      <th>1</th>\n",
       "      <td>52.71</td>\n",
       "      <td>57.06</td>\n",
       "      <td>5.5</td>\n",
       "      <td>1412</td>\n",
       "      <td>1556.5</td>\n",
       "      <td>0.907164</td>\n",
       "      <td>181.338094</td>\n",
       "      <td>56</td>\n",
       "      <td>41</td>\n",
       "      <td>387</td>\n",
       "    </tr>\n",
       "    <tr>\n",
       "      <th>2</th>\n",
       "      <td>72.92</td>\n",
       "      <td>64.96</td>\n",
       "      <td>8.9</td>\n",
       "      <td>1323</td>\n",
       "      <td>1766.5</td>\n",
       "      <td>0.748939</td>\n",
       "      <td>225.480229</td>\n",
       "      <td>49</td>\n",
       "      <td>54</td>\n",
       "      <td>332</td>\n",
       "    </tr>\n",
       "    <tr>\n",
       "      <th>3</th>\n",
       "      <td>58.18</td>\n",
       "      <td>75.92</td>\n",
       "      <td>7.5</td>\n",
       "      <td>1621</td>\n",
       "      <td>1787.0</td>\n",
       "      <td>0.907107</td>\n",
       "      <td>195.580734</td>\n",
       "      <td>44</td>\n",
       "      <td>59</td>\n",
       "      <td>395</td>\n",
       "    </tr>\n",
       "    <tr>\n",
       "      <th>4</th>\n",
       "      <td>71.82</td>\n",
       "      <td>79.79</td>\n",
       "      <td>7.1</td>\n",
       "      <td>1919</td>\n",
       "      <td>2372.0</td>\n",
       "      <td>0.809022</td>\n",
       "      <td>263.421354</td>\n",
       "      <td>62</td>\n",
       "      <td>58</td>\n",
       "      <td>453</td>\n",
       "    </tr>\n",
       "    <tr>\n",
       "      <th>...</th>\n",
       "      <td>...</td>\n",
       "      <td>...</td>\n",
       "      <td>...</td>\n",
       "      <td>...</td>\n",
       "      <td>...</td>\n",
       "      <td>...</td>\n",
       "      <td>...</td>\n",
       "      <td>...</td>\n",
       "      <td>...</td>\n",
       "      <td>...</td>\n",
       "    </tr>\n",
       "    <tr>\n",
       "      <th>79</th>\n",
       "      <td>96.13</td>\n",
       "      <td>105.59</td>\n",
       "      <td>9.5</td>\n",
       "      <td>3590</td>\n",
       "      <td>4191.5</td>\n",
       "      <td>0.856495</td>\n",
       "      <td>313.279218</td>\n",
       "      <td>88</td>\n",
       "      <td>68</td>\n",
       "      <td>710</td>\n",
       "    </tr>\n",
       "    <tr>\n",
       "      <th>80</th>\n",
       "      <td>99.26</td>\n",
       "      <td>105.96</td>\n",
       "      <td>9.4</td>\n",
       "      <td>2832</td>\n",
       "      <td>3384.0</td>\n",
       "      <td>0.836879</td>\n",
       "      <td>272.007140</td>\n",
       "      <td>57</td>\n",
       "      <td>75</td>\n",
       "      <td>595</td>\n",
       "    </tr>\n",
       "    <tr>\n",
       "      <th>81</th>\n",
       "      <td>83.12</td>\n",
       "      <td>96.14</td>\n",
       "      <td>8.2</td>\n",
       "      <td>2714</td>\n",
       "      <td>3456.5</td>\n",
       "      <td>0.785187</td>\n",
       "      <td>320.592927</td>\n",
       "      <td>59</td>\n",
       "      <td>84</td>\n",
       "      <td>579</td>\n",
       "    </tr>\n",
       "    <tr>\n",
       "      <th>82</th>\n",
       "      <td>70.66</td>\n",
       "      <td>66.16</td>\n",
       "      <td>6.8</td>\n",
       "      <td>1801</td>\n",
       "      <td>2538.5</td>\n",
       "      <td>0.709474</td>\n",
       "      <td>279.178713</td>\n",
       "      <td>74</td>\n",
       "      <td>53</td>\n",
       "      <td>608</td>\n",
       "    </tr>\n",
       "    <tr>\n",
       "      <th>83</th>\n",
       "      <td>94.84</td>\n",
       "      <td>113.77</td>\n",
       "      <td>8.6</td>\n",
       "      <td>4959</td>\n",
       "      <td>6644.0</td>\n",
       "      <td>0.746388</td>\n",
       "      <td>520.215291</td>\n",
       "      <td>106</td>\n",
       "      <td>93</td>\n",
       "      <td>824</td>\n",
       "    </tr>\n",
       "  </tbody>\n",
       "</table>\n",
       "<p>84 rows × 10 columns</p>\n",
       "</div>"
      ],
      "text/plain": [
       "    length_mm  width_mm  height_mm  plant_area  plant_convex_hull_area  \\\n",
       "0       43.07     51.99        5.8        1211                  1456.0   \n",
       "1       52.71     57.06        5.5        1412                  1556.5   \n",
       "2       72.92     64.96        8.9        1323                  1766.5   \n",
       "3       58.18     75.92        7.5        1621                  1787.0   \n",
       "4       71.82     79.79        7.1        1919                  2372.0   \n",
       "..        ...       ...        ...         ...                     ...   \n",
       "79      96.13    105.59        9.5        3590                  4191.5   \n",
       "80      99.26    105.96        9.4        2832                  3384.0   \n",
       "81      83.12     96.14        8.2        2714                  3456.5   \n",
       "82      70.66     66.16        6.8        1801                  2538.5   \n",
       "83      94.84    113.77        8.6        4959                  6644.0   \n",
       "\n",
       "    plant_solidity  plant_perimeter  plant_width  plant_height  \\\n",
       "0         0.831731       189.923880           49            42   \n",
       "1         0.907164       181.338094           56            41   \n",
       "2         0.748939       225.480229           49            54   \n",
       "3         0.907107       195.580734           44            59   \n",
       "4         0.809022       263.421354           62            58   \n",
       "..             ...              ...          ...           ...   \n",
       "79        0.856495       313.279218           88            68   \n",
       "80        0.836879       272.007140           57            75   \n",
       "81        0.785187       320.592927           59            84   \n",
       "82        0.709474       279.178713           74            53   \n",
       "83        0.746388       520.215291          106            93   \n",
       "\n",
       "    plant_longest_path  \n",
       "0                  346  \n",
       "1                  387  \n",
       "2                  332  \n",
       "3                  395  \n",
       "4                  453  \n",
       "..                 ...  \n",
       "79                 710  \n",
       "80                 595  \n",
       "81                 579  \n",
       "82                 608  \n",
       "83                 824  \n",
       "\n",
       "[84 rows x 10 columns]"
      ]
     },
     "execution_count": 26,
     "metadata": {},
     "output_type": "execute_result"
    }
   ],
   "source": [
    "csv_filepath = \"/Users/shilo/Documents/GitHub/BiomassPredictonAI/harvest_bydate.csv\"\n",
    "\n",
    "data = pd.read_csv(csv_filepath)\n",
    "input_data = data.iloc[:,9:]\n",
    "input_data"
   ]
  },
  {
   "cell_type": "code",
   "execution_count": 28,
   "metadata": {},
   "outputs": [
    {
     "data": {
      "text/plain": [
       "0     1.30\n",
       "1     2.10\n",
       "2     3.36\n",
       "3     3.07\n",
       "4     3.17\n",
       "      ... \n",
       "79    7.21\n",
       "80    6.50\n",
       "81    6.22\n",
       "82    3.27\n",
       "83    7.94\n",
       "Name: LFW_g, Length: 84, dtype: float64"
      ]
     },
     "execution_count": 28,
     "metadata": {},
     "output_type": "execute_result"
    }
   ],
   "source": [
    "output_data = data.iloc[:, 6]\n",
    "output_data"
   ]
  },
  {
   "cell_type": "code",
   "execution_count": 38,
   "metadata": {},
   "outputs": [],
   "source": [
    "# created callback to prevent overfitting\n",
    "class myCallback(tf.keras.callbacks.Callback):\n",
    "    def on_epoch_end(self, epoch, logs={}):\n",
    "        if logs.get('accuracy') is not None and logs.get('accuracy') > 0.95:\n",
    "            print(\"\\nReached 95 percent so cancelling training\")\n",
    "            self.model.stop_training = True\n",
    "\n",
    "\n",
    "callbacks = myCallback()"
   ]
  },
  {
   "cell_type": "code",
   "execution_count": 42,
   "metadata": {},
   "outputs": [],
   "source": [
    "# This function will be used to create our model\n",
    "def create_model():\n",
    "    model = keras.Sequential([\n",
    "        tf.keras.layers.Dense(128, activation='relu', input_shape=[10]),\n",
    "        tf.keras.layers.Dense(128, activation='relu'),\n",
    "        tf.keras.layers.Dropout(0.3),\n",
    "        tf.keras.layers.BatchNormalization(),\n",
    "        tf.keras.layers.Dense(128, activation='relu'),\n",
    "        tf.keras.layers.Dropout(0.3),\n",
    "        tf.keras.layers.BatchNormalization(),\n",
    "\n",
    "    ])\n",
    "\n",
    "    model.compile(\n",
    "        loss='Loss', #TODO: change loss function for regression\n",
    "        optimizer='adam',\n",
    "        metrics=['accuracy']\n",
    "    )\n",
    "\n",
    "    return model"
   ]
  },
  {
   "cell_type": "code",
   "execution_count": 43,
   "metadata": {},
   "outputs": [],
   "source": [
    "model = create_model()"
   ]
  },
  {
   "cell_type": "code",
   "execution_count": 44,
   "metadata": {},
   "outputs": [
    {
     "name": "stdout",
     "output_type": "stream",
     "text": [
      "Epoch 1/50\n"
     ]
    },
    {
     "ename": "NotImplementedError",
     "evalue": "in user code:\n\n    File \"/Users/shilo/Documents/GitHub/BiomassPredictonAI/venv/lib/python3.8/site-packages/keras/engine/training.py\", line 1249, in train_function  *\n        return step_function(self, iterator)\n    File \"/Users/shilo/Documents/GitHub/BiomassPredictonAI/venv/lib/python3.8/site-packages/keras/engine/training.py\", line 1233, in step_function  **\n        outputs = model.distribute_strategy.run(run_step, args=(data,))\n    File \"/Users/shilo/Documents/GitHub/BiomassPredictonAI/venv/lib/python3.8/site-packages/keras/engine/training.py\", line 1222, in run_step  **\n        outputs = model.train_step(data)\n    File \"/Users/shilo/Documents/GitHub/BiomassPredictonAI/venv/lib/python3.8/site-packages/keras/engine/training.py\", line 1024, in train_step\n        loss = self.compute_loss(x, y, y_pred, sample_weight)\n    File \"/Users/shilo/Documents/GitHub/BiomassPredictonAI/venv/lib/python3.8/site-packages/keras/engine/training.py\", line 1082, in compute_loss\n        return self.compiled_loss(\n    File \"/Users/shilo/Documents/GitHub/BiomassPredictonAI/venv/lib/python3.8/site-packages/keras/engine/compile_utils.py\", line 265, in __call__\n        loss_value = loss_obj(y_t, y_p, sample_weight=sw)\n    File \"/Users/shilo/Documents/GitHub/BiomassPredictonAI/venv/lib/python3.8/site-packages/keras/losses.py\", line 152, in __call__\n        losses = call_fn(y_true, y_pred)\n    File \"/Users/shilo/Documents/GitHub/BiomassPredictonAI/venv/lib/python3.8/site-packages/keras/losses.py\", line 204, in call  **\n        raise NotImplementedError(\"Must be implemented in subclasses.\")\n\n    NotImplementedError: Must be implemented in subclasses.\n",
     "output_type": "error",
     "traceback": [
      "\u001b[0;31m---------------------------------------------------------------------------\u001b[0m",
      "\u001b[0;31mNotImplementedError\u001b[0m                       Traceback (most recent call last)",
      "Cell \u001b[0;32mIn[44], line 1\u001b[0m\n\u001b[0;32m----> 1\u001b[0m model\u001b[39m.\u001b[39;49mfit(\n\u001b[1;32m      2\u001b[0m     input_data,\n\u001b[1;32m      3\u001b[0m     output_data,\n\u001b[1;32m      4\u001b[0m     epochs\u001b[39m=\u001b[39;49m\u001b[39m50\u001b[39;49m\n\u001b[1;32m      5\u001b[0m )\n",
      "File \u001b[0;32m~/Documents/GitHub/BiomassPredictonAI/venv/lib/python3.8/site-packages/keras/utils/traceback_utils.py:70\u001b[0m, in \u001b[0;36mfilter_traceback.<locals>.error_handler\u001b[0;34m(*args, **kwargs)\u001b[0m\n\u001b[1;32m     67\u001b[0m     filtered_tb \u001b[39m=\u001b[39m _process_traceback_frames(e\u001b[39m.\u001b[39m__traceback__)\n\u001b[1;32m     68\u001b[0m     \u001b[39m# To get the full stack trace, call:\u001b[39;00m\n\u001b[1;32m     69\u001b[0m     \u001b[39m# `tf.debugging.disable_traceback_filtering()`\u001b[39;00m\n\u001b[0;32m---> 70\u001b[0m     \u001b[39mraise\u001b[39;00m e\u001b[39m.\u001b[39mwith_traceback(filtered_tb) \u001b[39mfrom\u001b[39;00m \u001b[39mNone\u001b[39m\n\u001b[1;32m     71\u001b[0m \u001b[39mfinally\u001b[39;00m:\n\u001b[1;32m     72\u001b[0m     \u001b[39mdel\u001b[39;00m filtered_tb\n",
      "File \u001b[0;32m/var/folders/dr/9vsk6l753_xftxbhv9xw0xb80000gn/T/__autograph_generated_filef3ycwi1g.py:15\u001b[0m, in \u001b[0;36mouter_factory.<locals>.inner_factory.<locals>.tf__train_function\u001b[0;34m(iterator)\u001b[0m\n\u001b[1;32m     13\u001b[0m \u001b[39mtry\u001b[39;00m:\n\u001b[1;32m     14\u001b[0m     do_return \u001b[39m=\u001b[39m \u001b[39mTrue\u001b[39;00m\n\u001b[0;32m---> 15\u001b[0m     retval_ \u001b[39m=\u001b[39m ag__\u001b[39m.\u001b[39mconverted_call(ag__\u001b[39m.\u001b[39mld(step_function), (ag__\u001b[39m.\u001b[39mld(\u001b[39mself\u001b[39m), ag__\u001b[39m.\u001b[39mld(iterator)), \u001b[39mNone\u001b[39;00m, fscope)\n\u001b[1;32m     16\u001b[0m \u001b[39mexcept\u001b[39;00m:\n\u001b[1;32m     17\u001b[0m     do_return \u001b[39m=\u001b[39m \u001b[39mFalse\u001b[39;00m\n",
      "\u001b[0;31mNotImplementedError\u001b[0m: in user code:\n\n    File \"/Users/shilo/Documents/GitHub/BiomassPredictonAI/venv/lib/python3.8/site-packages/keras/engine/training.py\", line 1249, in train_function  *\n        return step_function(self, iterator)\n    File \"/Users/shilo/Documents/GitHub/BiomassPredictonAI/venv/lib/python3.8/site-packages/keras/engine/training.py\", line 1233, in step_function  **\n        outputs = model.distribute_strategy.run(run_step, args=(data,))\n    File \"/Users/shilo/Documents/GitHub/BiomassPredictonAI/venv/lib/python3.8/site-packages/keras/engine/training.py\", line 1222, in run_step  **\n        outputs = model.train_step(data)\n    File \"/Users/shilo/Documents/GitHub/BiomassPredictonAI/venv/lib/python3.8/site-packages/keras/engine/training.py\", line 1024, in train_step\n        loss = self.compute_loss(x, y, y_pred, sample_weight)\n    File \"/Users/shilo/Documents/GitHub/BiomassPredictonAI/venv/lib/python3.8/site-packages/keras/engine/training.py\", line 1082, in compute_loss\n        return self.compiled_loss(\n    File \"/Users/shilo/Documents/GitHub/BiomassPredictonAI/venv/lib/python3.8/site-packages/keras/engine/compile_utils.py\", line 265, in __call__\n        loss_value = loss_obj(y_t, y_p, sample_weight=sw)\n    File \"/Users/shilo/Documents/GitHub/BiomassPredictonAI/venv/lib/python3.8/site-packages/keras/losses.py\", line 152, in __call__\n        losses = call_fn(y_true, y_pred)\n    File \"/Users/shilo/Documents/GitHub/BiomassPredictonAI/venv/lib/python3.8/site-packages/keras/losses.py\", line 204, in call  **\n        raise NotImplementedError(\"Must be implemented in subclasses.\")\n\n    NotImplementedError: Must be implemented in subclasses.\n"
     ]
    }
   ],
   "source": [
    "model.fit(\n",
    "    input_data,\n",
    "    output_data,\n",
    "    epochs=50\n",
    ")"
   ]
  },
  {
   "cell_type": "code",
   "execution_count": null,
   "metadata": {},
   "outputs": [],
   "source": [
    "# This will allow us to save model weights after training\n",
    "model.save_weights('./checkpoints/model_weights')"
   ]
  }
 ],
 "metadata": {
  "kernelspec": {
   "display_name": "venv",
   "language": "python",
   "name": "python3"
  },
  "language_info": {
   "codemirror_mode": {
    "name": "ipython",
    "version": 3
   },
   "file_extension": ".py",
   "mimetype": "text/x-python",
   "name": "python",
   "nbconvert_exporter": "python",
   "pygments_lexer": "ipython3",
   "version": "3.8.5"
  },
  "orig_nbformat": 4,
  "vscode": {
   "interpreter": {
    "hash": "73f091d5a8ced06461ee928b8eac1d7d89c5f7b8164b0ed38ab19c96fad6e24c"
   }
  }
 },
 "nbformat": 4,
 "nbformat_minor": 2
}
