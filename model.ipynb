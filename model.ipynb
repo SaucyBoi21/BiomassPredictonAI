{
 "cells": [
  {
   "cell_type": "code",
   "execution_count": 12,
   "metadata": {},
   "outputs": [],
   "source": [
    "import tensorflow as tf\n",
    "from tensorflow import keras\n",
    "from plantcv import plantcv as pcv\n",
    "import pandas as pd"
   ]
  },
  {
   "cell_type": "code",
   "execution_count": 13,
   "metadata": {},
   "outputs": [
    {
     "name": "stdout",
     "output_type": "stream",
     "text": [
      "2.11.0\n",
      "1.5.3\n"
     ]
    }
   ],
   "source": [
    "print(tf.__version__)\n",
    "print(pd.__version__)"
   ]
  },
  {
   "cell_type": "code",
   "execution_count": 14,
   "metadata": {},
   "outputs": [],
   "source": [
    "# How many parameters are we inputing into our model\n",
    "num_parameters = 13 "
   ]
  },
  {
   "cell_type": "code",
   "execution_count": 15,
   "metadata": {},
   "outputs": [
    {
     "name": "stdout",
     "output_type": "stream",
     "text": [
      "Num GPUs Available:  0\n"
     ]
    }
   ],
   "source": [
    "# See if there are any GPUs that can be used to run our code\n",
    "print(\"Num GPUs Available: \", len(tf.config.list_physical_devices('GPU')))"
   ]
  },
  {
   "cell_type": "code",
   "execution_count": 52,
   "metadata": {},
   "outputs": [
    {
     "data": {
      "text/plain": [
       "array([1211, 1412, 1323, 1621, 1919, 1150, 1772,  893,  868, 1080, 2386,\n",
       "       2068, 1276, 2102, 1585, 1447, 1726, 1990, 1718, 1562, 1301, 1743,\n",
       "       2788, 1622, 1649, 1550, 1665, 2773, 2133, 1846, 1368, 1375, 2455,\n",
       "       6770, 5002, 4288, 5554, 4946, 6748, 5255, 6172, 5293, 5435, 3388,\n",
       "       7485, 4184, 4505, 2065, 1208, 4720, 6218, 5497, 4500, 3431, 4636,\n",
       "       8050, 6990, 5796, 5346, 4741, 3869, 6238, 3111, 4698, 2928, 5797,\n",
       "       4629, 6791, 3871, 6111, 5227, 4098, 8570, 5754, 4175, 3509, 2030,\n",
       "       2958, 3858, 3590, 2832, 2714, 1801, 4959])"
      ]
     },
     "execution_count": 52,
     "metadata": {},
     "output_type": "execute_result"
    }
   ],
   "source": [
    "csv_filepath = \"/Users/shilo/Documents/GitHub/BiomassPredictonAI/harvest_bydate.csv\"\n",
    "\n",
    "data = pd.read_csv(csv_filepath)\n",
    "input_data = data.iloc[:,12]\n",
    "input_data = input_data.to_numpy()\n",
    "input_data"
   ]
  },
  {
   "cell_type": "code",
   "execution_count": 56,
   "metadata": {},
   "outputs": [
    {
     "data": {
      "text/plain": [
       "array([ 1.3 ,  2.1 ,  3.36,  3.07,  3.17,  1.82,  3.12,  1.38,  2.03,\n",
       "        2.15,  3.54,  2.02,  1.19,  3.66,  1.47,  2.46,  1.79,  2.23,\n",
       "        2.54,  3.7 ,  3.  ,  2.14,  3.3 ,  2.29,  2.44,  3.23,  2.64,\n",
       "        3.46,  2.91,  3.34,  2.51,  2.58,  3.69, 10.95,  9.7 ,  9.2 ,\n",
       "       15.06, 12.86, 15.27, 11.26, 15.29, 12.11, 14.64,  6.3 , 11.32,\n",
       "        8.74,  9.59,  3.95,  1.82,  8.66, 12.3 , 12.4 , 10.47,  8.98,\n",
       "        9.6 , 13.69, 14.39, 13.44, 13.76, 13.33,  6.82, 12.42,  6.76,\n",
       "       10.29,  5.54, 16.44,  9.46, 12.24,  8.75, 15.56, 18.81,  9.89,\n",
       "       19.94, 11.04,  9.87,  9.98,  4.92,  5.49,  6.23,  7.21,  6.5 ,\n",
       "        6.22,  3.27,  7.94])"
      ]
     },
     "execution_count": 56,
     "metadata": {},
     "output_type": "execute_result"
    }
   ],
   "source": [
    "output_data = data.iloc[:, 6]\n",
    "output_data = output_data.to_numpy()\n",
    "output_data"
   ]
  },
  {
   "cell_type": "code",
   "execution_count": 18,
   "metadata": {},
   "outputs": [],
   "source": [
    "#input_data.corr()"
   ]
  },
  {
   "cell_type": "code",
   "execution_count": 19,
   "metadata": {},
   "outputs": [],
   "source": [
    "# created callback to prevent overfitting\n",
    "class myCallback(tf.keras.callbacks.Callback):\n",
    "    def on_epoch_end(self, epoch, logs={}):\n",
    "        if logs.get('accuracy') is not None and logs.get('accuracy') > 0.95:\n",
    "            print(\"\\nReached 95 percent so cancelling training\")\n",
    "            self.model.stop_training = True\n",
    "\n",
    "\n",
    "callbacks = myCallback()"
   ]
  },
  {
   "cell_type": "code",
   "execution_count": 54,
   "metadata": {},
   "outputs": [],
   "source": [
    "# This function will be used to create our model\n",
    "def create_model():\n",
    "    model = keras.Sequential([\n",
    "        tf.keras.layers.Dense(10, activation='relu', input_shape=[1]),\n",
    "        tf.keras.layers.Dense(25, activation='relu'),\n",
    "        tf.keras.layers.Dense(25, activation='relu')\n",
    "        #tf.keras.layers.Dense(1, activation='linear')\n",
    "        \n",
    "\n",
    "    ])\n",
    "\n",
    "    model.compile(\n",
    "        loss='mean_squared_error', #TODO: change loss function for regression\n",
    "        optimizer=tf.keras.optimizers.Adam(0.001)\n",
    "    )\n",
    "\n",
    "    return model"
   ]
  },
  {
   "cell_type": "code",
   "execution_count": 48,
   "metadata": {},
   "outputs": [],
   "source": [
    "model = create_model()"
   ]
  },
  {
   "cell_type": "code",
   "execution_count": 55,
   "metadata": {},
   "outputs": [
    {
     "name": "stdout",
     "output_type": "stream",
     "text": [
      "Epoch 1/500\n"
     ]
    },
    {
     "ename": "InvalidArgumentError",
     "evalue": "Graph execution error:\n\nDetected at node 'sequential_9/dense_27/Relu' defined at (most recent call last):\n    File \"/Library/Frameworks/Python.framework/Versions/3.8/lib/python3.8/runpy.py\", line 194, in _run_module_as_main\n      return _run_code(code, main_globals, None,\n    File \"/Library/Frameworks/Python.framework/Versions/3.8/lib/python3.8/runpy.py\", line 87, in _run_code\n      exec(code, run_globals)\n    File \"/Users/shilo/Documents/GitHub/BiomassPredictonAI/venv/lib/python3.8/site-packages/ipykernel_launcher.py\", line 17, in <module>\n      app.launch_new_instance()\n    File \"/Users/shilo/Documents/GitHub/BiomassPredictonAI/venv/lib/python3.8/site-packages/traitlets/config/application.py\", line 1043, in launch_instance\n      app.start()\n    File \"/Users/shilo/Documents/GitHub/BiomassPredictonAI/venv/lib/python3.8/site-packages/ipykernel/kernelapp.py\", line 725, in start\n      self.io_loop.start()\n    File \"/Users/shilo/Documents/GitHub/BiomassPredictonAI/venv/lib/python3.8/site-packages/tornado/platform/asyncio.py\", line 215, in start\n      self.asyncio_loop.run_forever()\n    File \"/Library/Frameworks/Python.framework/Versions/3.8/lib/python3.8/asyncio/base_events.py\", line 570, in run_forever\n      self._run_once()\n    File \"/Library/Frameworks/Python.framework/Versions/3.8/lib/python3.8/asyncio/base_events.py\", line 1859, in _run_once\n      handle._run()\n    File \"/Library/Frameworks/Python.framework/Versions/3.8/lib/python3.8/asyncio/events.py\", line 81, in _run\n      self._context.run(self._callback, *self._args)\n    File \"/Users/shilo/Documents/GitHub/BiomassPredictonAI/venv/lib/python3.8/site-packages/ipykernel/kernelbase.py\", line 513, in dispatch_queue\n      await self.process_one()\n    File \"/Users/shilo/Documents/GitHub/BiomassPredictonAI/venv/lib/python3.8/site-packages/ipykernel/kernelbase.py\", line 502, in process_one\n      await dispatch(*args)\n    File \"/Users/shilo/Documents/GitHub/BiomassPredictonAI/venv/lib/python3.8/site-packages/ipykernel/kernelbase.py\", line 409, in dispatch_shell\n      await result\n    File \"/Users/shilo/Documents/GitHub/BiomassPredictonAI/venv/lib/python3.8/site-packages/ipykernel/kernelbase.py\", line 729, in execute_request\n      reply_content = await reply_content\n    File \"/Users/shilo/Documents/GitHub/BiomassPredictonAI/venv/lib/python3.8/site-packages/ipykernel/ipkernel.py\", line 422, in do_execute\n      res = shell.run_cell(\n    File \"/Users/shilo/Documents/GitHub/BiomassPredictonAI/venv/lib/python3.8/site-packages/ipykernel/zmqshell.py\", line 540, in run_cell\n      return super().run_cell(*args, **kwargs)\n    File \"/Users/shilo/Documents/GitHub/BiomassPredictonAI/venv/lib/python3.8/site-packages/IPython/core/interactiveshell.py\", line 2961, in run_cell\n      result = self._run_cell(\n    File \"/Users/shilo/Documents/GitHub/BiomassPredictonAI/venv/lib/python3.8/site-packages/IPython/core/interactiveshell.py\", line 3016, in _run_cell\n      result = runner(coro)\n    File \"/Users/shilo/Documents/GitHub/BiomassPredictonAI/venv/lib/python3.8/site-packages/IPython/core/async_helpers.py\", line 129, in _pseudo_sync_runner\n      coro.send(None)\n    File \"/Users/shilo/Documents/GitHub/BiomassPredictonAI/venv/lib/python3.8/site-packages/IPython/core/interactiveshell.py\", line 3221, in run_cell_async\n      has_raised = await self.run_ast_nodes(code_ast.body, cell_name,\n    File \"/Users/shilo/Documents/GitHub/BiomassPredictonAI/venv/lib/python3.8/site-packages/IPython/core/interactiveshell.py\", line 3400, in run_ast_nodes\n      if await self.run_code(code, result, async_=asy):\n    File \"/Users/shilo/Documents/GitHub/BiomassPredictonAI/venv/lib/python3.8/site-packages/IPython/core/interactiveshell.py\", line 3460, in run_code\n      exec(code_obj, self.user_global_ns, self.user_ns)\n    File \"/var/folders/dr/9vsk6l753_xftxbhv9xw0xb80000gn/T/ipykernel_6193/997044745.py\", line 1, in <module>\n      model.fit(\n    File \"/Users/shilo/Documents/GitHub/BiomassPredictonAI/venv/lib/python3.8/site-packages/keras/utils/traceback_utils.py\", line 65, in error_handler\n      return fn(*args, **kwargs)\n    File \"/Users/shilo/Documents/GitHub/BiomassPredictonAI/venv/lib/python3.8/site-packages/keras/engine/training.py\", line 1650, in fit\n      tmp_logs = self.train_function(iterator)\n    File \"/Users/shilo/Documents/GitHub/BiomassPredictonAI/venv/lib/python3.8/site-packages/keras/engine/training.py\", line 1249, in train_function\n      return step_function(self, iterator)\n    File \"/Users/shilo/Documents/GitHub/BiomassPredictonAI/venv/lib/python3.8/site-packages/keras/engine/training.py\", line 1233, in step_function\n      outputs = model.distribute_strategy.run(run_step, args=(data,))\n    File \"/Users/shilo/Documents/GitHub/BiomassPredictonAI/venv/lib/python3.8/site-packages/keras/engine/training.py\", line 1222, in run_step\n      outputs = model.train_step(data)\n    File \"/Users/shilo/Documents/GitHub/BiomassPredictonAI/venv/lib/python3.8/site-packages/keras/engine/training.py\", line 1023, in train_step\n      y_pred = self(x, training=True)\n    File \"/Users/shilo/Documents/GitHub/BiomassPredictonAI/venv/lib/python3.8/site-packages/keras/utils/traceback_utils.py\", line 65, in error_handler\n      return fn(*args, **kwargs)\n    File \"/Users/shilo/Documents/GitHub/BiomassPredictonAI/venv/lib/python3.8/site-packages/keras/engine/training.py\", line 561, in __call__\n      return super().__call__(*args, **kwargs)\n    File \"/Users/shilo/Documents/GitHub/BiomassPredictonAI/venv/lib/python3.8/site-packages/keras/utils/traceback_utils.py\", line 65, in error_handler\n      return fn(*args, **kwargs)\n    File \"/Users/shilo/Documents/GitHub/BiomassPredictonAI/venv/lib/python3.8/site-packages/keras/engine/base_layer.py\", line 1132, in __call__\n      outputs = call_fn(inputs, *args, **kwargs)\n    File \"/Users/shilo/Documents/GitHub/BiomassPredictonAI/venv/lib/python3.8/site-packages/keras/utils/traceback_utils.py\", line 96, in error_handler\n      return fn(*args, **kwargs)\n    File \"/Users/shilo/Documents/GitHub/BiomassPredictonAI/venv/lib/python3.8/site-packages/keras/engine/sequential.py\", line 413, in call\n      return super().call(inputs, training=training, mask=mask)\n    File \"/Users/shilo/Documents/GitHub/BiomassPredictonAI/venv/lib/python3.8/site-packages/keras/engine/functional.py\", line 511, in call\n      return self._run_internal_graph(inputs, training=training, mask=mask)\n    File \"/Users/shilo/Documents/GitHub/BiomassPredictonAI/venv/lib/python3.8/site-packages/keras/engine/functional.py\", line 668, in _run_internal_graph\n      outputs = node.layer(*args, **kwargs)\n    File \"/Users/shilo/Documents/GitHub/BiomassPredictonAI/venv/lib/python3.8/site-packages/keras/utils/traceback_utils.py\", line 65, in error_handler\n      return fn(*args, **kwargs)\n    File \"/Users/shilo/Documents/GitHub/BiomassPredictonAI/venv/lib/python3.8/site-packages/keras/engine/base_layer.py\", line 1132, in __call__\n      outputs = call_fn(inputs, *args, **kwargs)\n    File \"/Users/shilo/Documents/GitHub/BiomassPredictonAI/venv/lib/python3.8/site-packages/keras/utils/traceback_utils.py\", line 96, in error_handler\n      return fn(*args, **kwargs)\n    File \"/Users/shilo/Documents/GitHub/BiomassPredictonAI/venv/lib/python3.8/site-packages/keras/layers/core/dense.py\", line 255, in call\n      outputs = self.activation(outputs)\n    File \"/Users/shilo/Documents/GitHub/BiomassPredictonAI/venv/lib/python3.8/site-packages/keras/activations.py\", line 317, in relu\n      return backend.relu(\n    File \"/Users/shilo/Documents/GitHub/BiomassPredictonAI/venv/lib/python3.8/site-packages/keras/backend.py\", line 5369, in relu\n      x = tf.nn.relu(x)\nNode: 'sequential_9/dense_27/Relu'\nIn[0] and In[1] has different ndims: [32] vs. [1,10]\n\t [[{{node sequential_9/dense_27/Relu}}]] [Op:__inference_train_function_230264]",
     "output_type": "error",
     "traceback": [
      "\u001b[0;31m---------------------------------------------------------------------------\u001b[0m",
      "\u001b[0;31mInvalidArgumentError\u001b[0m                      Traceback (most recent call last)",
      "Cell \u001b[0;32mIn[55], line 1\u001b[0m\n\u001b[0;32m----> 1\u001b[0m model\u001b[39m.\u001b[39;49mfit(\n\u001b[1;32m      2\u001b[0m     input_data,\n\u001b[1;32m      3\u001b[0m     output_data,\n\u001b[1;32m      4\u001b[0m     epochs\u001b[39m=\u001b[39;49m\u001b[39m500\u001b[39;49m\n\u001b[1;32m      5\u001b[0m )\n",
      "File \u001b[0;32m~/Documents/GitHub/BiomassPredictonAI/venv/lib/python3.8/site-packages/keras/utils/traceback_utils.py:70\u001b[0m, in \u001b[0;36mfilter_traceback.<locals>.error_handler\u001b[0;34m(*args, **kwargs)\u001b[0m\n\u001b[1;32m     67\u001b[0m     filtered_tb \u001b[39m=\u001b[39m _process_traceback_frames(e\u001b[39m.\u001b[39m__traceback__)\n\u001b[1;32m     68\u001b[0m     \u001b[39m# To get the full stack trace, call:\u001b[39;00m\n\u001b[1;32m     69\u001b[0m     \u001b[39m# `tf.debugging.disable_traceback_filtering()`\u001b[39;00m\n\u001b[0;32m---> 70\u001b[0m     \u001b[39mraise\u001b[39;00m e\u001b[39m.\u001b[39mwith_traceback(filtered_tb) \u001b[39mfrom\u001b[39;00m \u001b[39mNone\u001b[39m\n\u001b[1;32m     71\u001b[0m \u001b[39mfinally\u001b[39;00m:\n\u001b[1;32m     72\u001b[0m     \u001b[39mdel\u001b[39;00m filtered_tb\n",
      "File \u001b[0;32m~/Documents/GitHub/BiomassPredictonAI/venv/lib/python3.8/site-packages/tensorflow/python/eager/execute.py:52\u001b[0m, in \u001b[0;36mquick_execute\u001b[0;34m(op_name, num_outputs, inputs, attrs, ctx, name)\u001b[0m\n\u001b[1;32m     50\u001b[0m \u001b[39mtry\u001b[39;00m:\n\u001b[1;32m     51\u001b[0m   ctx\u001b[39m.\u001b[39mensure_initialized()\n\u001b[0;32m---> 52\u001b[0m   tensors \u001b[39m=\u001b[39m pywrap_tfe\u001b[39m.\u001b[39mTFE_Py_Execute(ctx\u001b[39m.\u001b[39m_handle, device_name, op_name,\n\u001b[1;32m     53\u001b[0m                                       inputs, attrs, num_outputs)\n\u001b[1;32m     54\u001b[0m \u001b[39mexcept\u001b[39;00m core\u001b[39m.\u001b[39m_NotOkStatusException \u001b[39mas\u001b[39;00m e:\n\u001b[1;32m     55\u001b[0m   \u001b[39mif\u001b[39;00m name \u001b[39mis\u001b[39;00m \u001b[39mnot\u001b[39;00m \u001b[39mNone\u001b[39;00m:\n",
      "\u001b[0;31mInvalidArgumentError\u001b[0m: Graph execution error:\n\nDetected at node 'sequential_9/dense_27/Relu' defined at (most recent call last):\n    File \"/Library/Frameworks/Python.framework/Versions/3.8/lib/python3.8/runpy.py\", line 194, in _run_module_as_main\n      return _run_code(code, main_globals, None,\n    File \"/Library/Frameworks/Python.framework/Versions/3.8/lib/python3.8/runpy.py\", line 87, in _run_code\n      exec(code, run_globals)\n    File \"/Users/shilo/Documents/GitHub/BiomassPredictonAI/venv/lib/python3.8/site-packages/ipykernel_launcher.py\", line 17, in <module>\n      app.launch_new_instance()\n    File \"/Users/shilo/Documents/GitHub/BiomassPredictonAI/venv/lib/python3.8/site-packages/traitlets/config/application.py\", line 1043, in launch_instance\n      app.start()\n    File \"/Users/shilo/Documents/GitHub/BiomassPredictonAI/venv/lib/python3.8/site-packages/ipykernel/kernelapp.py\", line 725, in start\n      self.io_loop.start()\n    File \"/Users/shilo/Documents/GitHub/BiomassPredictonAI/venv/lib/python3.8/site-packages/tornado/platform/asyncio.py\", line 215, in start\n      self.asyncio_loop.run_forever()\n    File \"/Library/Frameworks/Python.framework/Versions/3.8/lib/python3.8/asyncio/base_events.py\", line 570, in run_forever\n      self._run_once()\n    File \"/Library/Frameworks/Python.framework/Versions/3.8/lib/python3.8/asyncio/base_events.py\", line 1859, in _run_once\n      handle._run()\n    File \"/Library/Frameworks/Python.framework/Versions/3.8/lib/python3.8/asyncio/events.py\", line 81, in _run\n      self._context.run(self._callback, *self._args)\n    File \"/Users/shilo/Documents/GitHub/BiomassPredictonAI/venv/lib/python3.8/site-packages/ipykernel/kernelbase.py\", line 513, in dispatch_queue\n      await self.process_one()\n    File \"/Users/shilo/Documents/GitHub/BiomassPredictonAI/venv/lib/python3.8/site-packages/ipykernel/kernelbase.py\", line 502, in process_one\n      await dispatch(*args)\n    File \"/Users/shilo/Documents/GitHub/BiomassPredictonAI/venv/lib/python3.8/site-packages/ipykernel/kernelbase.py\", line 409, in dispatch_shell\n      await result\n    File \"/Users/shilo/Documents/GitHub/BiomassPredictonAI/venv/lib/python3.8/site-packages/ipykernel/kernelbase.py\", line 729, in execute_request\n      reply_content = await reply_content\n    File \"/Users/shilo/Documents/GitHub/BiomassPredictonAI/venv/lib/python3.8/site-packages/ipykernel/ipkernel.py\", line 422, in do_execute\n      res = shell.run_cell(\n    File \"/Users/shilo/Documents/GitHub/BiomassPredictonAI/venv/lib/python3.8/site-packages/ipykernel/zmqshell.py\", line 540, in run_cell\n      return super().run_cell(*args, **kwargs)\n    File \"/Users/shilo/Documents/GitHub/BiomassPredictonAI/venv/lib/python3.8/site-packages/IPython/core/interactiveshell.py\", line 2961, in run_cell\n      result = self._run_cell(\n    File \"/Users/shilo/Documents/GitHub/BiomassPredictonAI/venv/lib/python3.8/site-packages/IPython/core/interactiveshell.py\", line 3016, in _run_cell\n      result = runner(coro)\n    File \"/Users/shilo/Documents/GitHub/BiomassPredictonAI/venv/lib/python3.8/site-packages/IPython/core/async_helpers.py\", line 129, in _pseudo_sync_runner\n      coro.send(None)\n    File \"/Users/shilo/Documents/GitHub/BiomassPredictonAI/venv/lib/python3.8/site-packages/IPython/core/interactiveshell.py\", line 3221, in run_cell_async\n      has_raised = await self.run_ast_nodes(code_ast.body, cell_name,\n    File \"/Users/shilo/Documents/GitHub/BiomassPredictonAI/venv/lib/python3.8/site-packages/IPython/core/interactiveshell.py\", line 3400, in run_ast_nodes\n      if await self.run_code(code, result, async_=asy):\n    File \"/Users/shilo/Documents/GitHub/BiomassPredictonAI/venv/lib/python3.8/site-packages/IPython/core/interactiveshell.py\", line 3460, in run_code\n      exec(code_obj, self.user_global_ns, self.user_ns)\n    File \"/var/folders/dr/9vsk6l753_xftxbhv9xw0xb80000gn/T/ipykernel_6193/997044745.py\", line 1, in <module>\n      model.fit(\n    File \"/Users/shilo/Documents/GitHub/BiomassPredictonAI/venv/lib/python3.8/site-packages/keras/utils/traceback_utils.py\", line 65, in error_handler\n      return fn(*args, **kwargs)\n    File \"/Users/shilo/Documents/GitHub/BiomassPredictonAI/venv/lib/python3.8/site-packages/keras/engine/training.py\", line 1650, in fit\n      tmp_logs = self.train_function(iterator)\n    File \"/Users/shilo/Documents/GitHub/BiomassPredictonAI/venv/lib/python3.8/site-packages/keras/engine/training.py\", line 1249, in train_function\n      return step_function(self, iterator)\n    File \"/Users/shilo/Documents/GitHub/BiomassPredictonAI/venv/lib/python3.8/site-packages/keras/engine/training.py\", line 1233, in step_function\n      outputs = model.distribute_strategy.run(run_step, args=(data,))\n    File \"/Users/shilo/Documents/GitHub/BiomassPredictonAI/venv/lib/python3.8/site-packages/keras/engine/training.py\", line 1222, in run_step\n      outputs = model.train_step(data)\n    File \"/Users/shilo/Documents/GitHub/BiomassPredictonAI/venv/lib/python3.8/site-packages/keras/engine/training.py\", line 1023, in train_step\n      y_pred = self(x, training=True)\n    File \"/Users/shilo/Documents/GitHub/BiomassPredictonAI/venv/lib/python3.8/site-packages/keras/utils/traceback_utils.py\", line 65, in error_handler\n      return fn(*args, **kwargs)\n    File \"/Users/shilo/Documents/GitHub/BiomassPredictonAI/venv/lib/python3.8/site-packages/keras/engine/training.py\", line 561, in __call__\n      return super().__call__(*args, **kwargs)\n    File \"/Users/shilo/Documents/GitHub/BiomassPredictonAI/venv/lib/python3.8/site-packages/keras/utils/traceback_utils.py\", line 65, in error_handler\n      return fn(*args, **kwargs)\n    File \"/Users/shilo/Documents/GitHub/BiomassPredictonAI/venv/lib/python3.8/site-packages/keras/engine/base_layer.py\", line 1132, in __call__\n      outputs = call_fn(inputs, *args, **kwargs)\n    File \"/Users/shilo/Documents/GitHub/BiomassPredictonAI/venv/lib/python3.8/site-packages/keras/utils/traceback_utils.py\", line 96, in error_handler\n      return fn(*args, **kwargs)\n    File \"/Users/shilo/Documents/GitHub/BiomassPredictonAI/venv/lib/python3.8/site-packages/keras/engine/sequential.py\", line 413, in call\n      return super().call(inputs, training=training, mask=mask)\n    File \"/Users/shilo/Documents/GitHub/BiomassPredictonAI/venv/lib/python3.8/site-packages/keras/engine/functional.py\", line 511, in call\n      return self._run_internal_graph(inputs, training=training, mask=mask)\n    File \"/Users/shilo/Documents/GitHub/BiomassPredictonAI/venv/lib/python3.8/site-packages/keras/engine/functional.py\", line 668, in _run_internal_graph\n      outputs = node.layer(*args, **kwargs)\n    File \"/Users/shilo/Documents/GitHub/BiomassPredictonAI/venv/lib/python3.8/site-packages/keras/utils/traceback_utils.py\", line 65, in error_handler\n      return fn(*args, **kwargs)\n    File \"/Users/shilo/Documents/GitHub/BiomassPredictonAI/venv/lib/python3.8/site-packages/keras/engine/base_layer.py\", line 1132, in __call__\n      outputs = call_fn(inputs, *args, **kwargs)\n    File \"/Users/shilo/Documents/GitHub/BiomassPredictonAI/venv/lib/python3.8/site-packages/keras/utils/traceback_utils.py\", line 96, in error_handler\n      return fn(*args, **kwargs)\n    File \"/Users/shilo/Documents/GitHub/BiomassPredictonAI/venv/lib/python3.8/site-packages/keras/layers/core/dense.py\", line 255, in call\n      outputs = self.activation(outputs)\n    File \"/Users/shilo/Documents/GitHub/BiomassPredictonAI/venv/lib/python3.8/site-packages/keras/activations.py\", line 317, in relu\n      return backend.relu(\n    File \"/Users/shilo/Documents/GitHub/BiomassPredictonAI/venv/lib/python3.8/site-packages/keras/backend.py\", line 5369, in relu\n      x = tf.nn.relu(x)\nNode: 'sequential_9/dense_27/Relu'\nIn[0] and In[1] has different ndims: [32] vs. [1,10]\n\t [[{{node sequential_9/dense_27/Relu}}]] [Op:__inference_train_function_230264]"
     ]
    }
   ],
   "source": [
    "model.fit(\n",
    "    input_data,\n",
    "    output_data,\n",
    "    epochs=500\n",
    ")"
   ]
  },
  {
   "cell_type": "code",
   "execution_count": null,
   "metadata": {},
   "outputs": [],
   "source": [
    "# This will allow us to save model weights after training\n",
    "model.save_weights('./checkpoints/model_weights')"
   ]
  }
 ],
 "metadata": {
  "kernelspec": {
   "display_name": "venv",
   "language": "python",
   "name": "python3"
  },
  "language_info": {
   "codemirror_mode": {
    "name": "ipython",
    "version": 3
   },
   "file_extension": ".py",
   "mimetype": "text/x-python",
   "name": "python",
   "nbconvert_exporter": "python",
   "pygments_lexer": "ipython3",
   "version": "3.8.5"
  },
  "orig_nbformat": 4,
  "vscode": {
   "interpreter": {
    "hash": "73f091d5a8ced06461ee928b8eac1d7d89c5f7b8164b0ed38ab19c96fad6e24c"
   }
  }
 },
 "nbformat": 4,
 "nbformat_minor": 2
}
