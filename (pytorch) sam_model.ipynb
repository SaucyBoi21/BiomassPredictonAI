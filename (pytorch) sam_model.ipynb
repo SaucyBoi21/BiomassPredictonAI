{
 "cells": [
  {
   "cell_type": "code",
   "execution_count": 1,
   "metadata": {},
   "outputs": [
    {
     "name": "stdout",
     "output_type": "stream",
     "text": [
      "Unexpected exception formatting exception. Falling back to standard exception\n"
     ]
    },
    {
     "name": "stderr",
     "output_type": "stream",
     "text": [
      "Traceback (most recent call last):\n",
      "  File \"/Users/shilo/Documents/GitHub/BiomassPredictonAI/.venv/lib/python3.11/site-packages/IPython/core/interactiveshell.py\", line 3508, in run_code\n",
      "  File \"/var/folders/dr/9vsk6l753_xftxbhv9xw0xb80000gn/T/ipykernel_5638/3642117722.py\", line 2, in <module>\n",
      "    import cv2\n",
      "ModuleNotFoundError: No module named 'cv2'\n",
      "\n",
      "During handling of the above exception, another exception occurred:\n",
      "\n",
      "Traceback (most recent call last):\n",
      "  File \"/Users/shilo/Documents/GitHub/BiomassPredictonAI/.venv/lib/python3.11/site-packages/pygments/styles/__init__.py\", line 89, in get_style_by_name\n",
      "ModuleNotFoundError: No module named 'pygments.styles.default'\n",
      "\n",
      "During handling of the above exception, another exception occurred:\n",
      "\n",
      "Traceback (most recent call last):\n",
      "  File \"/Users/shilo/Documents/GitHub/BiomassPredictonAI/.venv/lib/python3.11/site-packages/IPython/core/interactiveshell.py\", line 2105, in showtraceback\n",
      "  File \"/Users/shilo/Documents/GitHub/BiomassPredictonAI/.venv/lib/python3.11/site-packages/IPython/core/ultratb.py\", line 1428, in structured_traceback\n",
      "  File \"/Users/shilo/Documents/GitHub/BiomassPredictonAI/.venv/lib/python3.11/site-packages/IPython/core/ultratb.py\", line 1319, in structured_traceback\n",
      "  File \"/Users/shilo/Documents/GitHub/BiomassPredictonAI/.venv/lib/python3.11/site-packages/IPython/core/ultratb.py\", line 1172, in structured_traceback\n",
      "  File \"/Users/shilo/Documents/GitHub/BiomassPredictonAI/.venv/lib/python3.11/site-packages/IPython/core/ultratb.py\", line 1062, in format_exception_as_a_whole\n",
      "  File \"/Users/shilo/Documents/GitHub/BiomassPredictonAI/.venv/lib/python3.11/site-packages/IPython/core/ultratb.py\", line 1113, in get_records\n",
      "  File \"/Users/shilo/Documents/GitHub/BiomassPredictonAI/.venv/lib/python3.11/site-packages/pygments/styles/__init__.py\", line 91, in get_style_by_name\n",
      "pygments.util.ClassNotFound: Could not find style module 'default', though it should be builtin.\n"
     ]
    }
   ],
   "source": [
    "import os\n",
    "import cv2\n",
    "import requests\n",
    "from io import BytesIO\n",
    "import matplotlib.pyplot as plt\n",
    "import torch\n",
    "import torch.nn as nn\n",
    "import torchvision\n",
    "from torchvision import transforms\n",
    "import numpy as np\n",
    "from PIL import Image\n",
    "from segment_anything import sam_model_registry, SamAutomaticMaskGenerator, SamPredictor\n",
    "from torch.utils.data import Dataset, dataloader\n",
    "import glob"
   ]
  },
  {
   "cell_type": "code",
   "execution_count": null,
   "metadata": {},
   "outputs": [],
   "source": []
  },
  {
   "cell_type": "code",
   "execution_count": 2,
   "metadata": {},
   "outputs": [
    {
     "ename": "SyntaxError",
     "evalue": "incomplete input (2476651774.py, line 14)",
     "output_type": "error",
     "traceback": [
      "\u001b[0;36m  Cell \u001b[0;32mIn[2], line 14\u001b[0;36m\u001b[0m\n\u001b[0;31m    \u001b[0m\n\u001b[0m    ^\u001b[0m\n\u001b[0;31mSyntaxError\u001b[0m\u001b[0;31m:\u001b[0m incomplete input\n"
     ]
    }
   ],
   "source": [
    "class PlantSegmentationDataset(Dataset):\n",
    "    def __init__(self, root_dir, transform=None):\n",
    "        self.root_dir = root_dir\n",
    "        self.transform = transform\n",
    "        \n",
    "        self.image_path = sorted(glob.glob(os.path.join(root_dir, '*', '*.jpg')))\n",
    "\n",
    "        print(f\"Number of images: {len(self.image_path)}\")\n",
    "\n",
    "    def __len__(self):\n",
    "        return len(self.image_path)\n",
    "    \n",
    "    def __getitem__(self, index):\n",
    "        "
   ]
  }
 ],
 "metadata": {
  "kernelspec": {
   "display_name": "venv",
   "language": "python",
   "name": "python3"
  },
  "language_info": {
   "codemirror_mode": {
    "name": "ipython",
    "version": 3
   },
   "file_extension": ".py",
   "mimetype": "text/x-python",
   "name": "python",
   "nbconvert_exporter": "python",
   "pygments_lexer": "ipython3",
   "version": "3.11.2"
  },
  "orig_nbformat": 4
 },
 "nbformat": 4,
 "nbformat_minor": 2
}
